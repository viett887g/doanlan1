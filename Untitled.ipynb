{
 "cells": [
  {
   "cell_type": "code",
   "execution_count": 1,
   "id": "cecdaa49-11f7-460e-9b7c-dafba0e1f6e6",
   "metadata": {},
   "outputs": [],
   "source": [
    "import warnings\n",
    "warnings.filterwarnings('ignore')"
   ]
  },
  {
   "cell_type": "code",
   "execution_count": 2,
   "id": "984187e7-ecdd-467e-8fc7-860f4d82bd1f",
   "metadata": {},
   "outputs": [],
   "source": [
    "import warnings\n",
    "warnings.filterwarnings('ignore')\n",
    "import cv2,os,math\n",
    "import numpy as np\n",
    "import matplotlib.pyplot as plt\n",
    "from sklearn.neighbors import KNeighborsRegressor,KNeighborsClassifier\n",
    "from sklearn.preprocessing import LabelBinarizer\n",
    "from skimage.transform import resize\n",
    "from skimage.color import rgb2gray\n",
    "from skimage import io\n",
    "from sklearn import preprocessing\n",
    "from sklearn.model_selection import train_test_split\n",
    "from sklearn.model_selection import GridSearchCV\n",
    "from sklearn.linear_model import LogisticRegressionCV,LogisticRegression\n",
    "from sklearn.metrics import precision_score,accuracy_score,recall_score,f1_score,precision_recall_curve,roc_auc_score, roc_curve"
   ]
  },
  {
   "cell_type": "code",
   "execution_count": 3,
   "id": "c7f08fe9-ed1b-405f-8c1f-5c27f9908049",
   "metadata": {},
   "outputs": [],
   "source": [
    "link = ['C:/Users/ADMIN/Downloads/kagglecatsanddogs_5340/PetImages/Cat',\"C:/Users/ADMIN/Downloads/kagglecatsanddogs_5340/PetImages/Dog\"]"
   ]
  },
  {
   "cell_type": "code",
   "execution_count": 4,
   "id": "c7c4dfdb-3bee-4119-91d7-f37ac8ebfb04",
   "metadata": {},
   "outputs": [],
   "source": [
    "X_Cat1,X_Dog1=os.listdir(link[0]),os.listdir(link[1])\n",
    "X_true = np.concatenate((X_Cat1, X_Dog1), axis=0)"
   ]
  },
  {
   "cell_type": "code",
   "execution_count": 5,
   "id": "6bb5aea3-9b51-4da0-8fd1-8d06968d2871",
   "metadata": {},
   "outputs": [],
   "source": [
    "y_Cat1,y_Dog1=os.listdir(link[0]),os.listdir(link[1])\n",
    "y_Cat,y_Dog=[0]*len(y_Cat1),[1]*len(y_Dog1)\n",
    "y_true = np.concatenate((y_Cat, y_Dog), axis=0)"
   ]
  },
  {
   "cell_type": "code",
   "execution_count": 6,
   "id": "d2672313-0148-4b36-98fa-4157d5875620",
   "metadata": {},
   "outputs": [
    {
     "name": "stdout",
     "output_type": "stream",
     "text": [
      "anh meo va cho bi loi 10125.jpg\n",
      "anh meo va cho bi loi 10404.jpg\n",
      "anh meo va cho bi loi 10501.jpg\n",
      "anh meo va cho bi loi 10820.jpg\n",
      "anh meo va cho bi loi 11095.jpg\n",
      "anh meo va cho bi loi 11210.jpg\n",
      "anh meo va cho bi loi 11565.jpg\n",
      "anh meo va cho bi loi 11874.jpg\n",
      "anh meo va cho bi loi 11935.jpg\n",
      "anh meo va cho bi loi 12080.jpg\n",
      "anh meo va cho bi loi 140.jpg\n",
      "anh meo va cho bi loi 2663.jpg\n",
      "anh meo va cho bi loi 2939.jpg\n",
      "anh meo va cho bi loi 3300.jpg\n",
      "anh meo va cho bi loi 3491.jpg\n",
      "anh meo va cho bi loi 4833.jpg\n",
      "anh meo va cho bi loi 5370.jpg\n",
      "anh meo va cho bi loi 5553.jpg\n",
      "anh meo va cho bi loi 5686.jpg\n",
      "anh meo va cho bi loi 6435.jpg\n",
      "anh meo va cho bi loi 660.jpg\n",
      "anh meo va cho bi loi 666.jpg\n",
      "anh meo va cho bi loi 7276.jpg\n",
      "anh meo va cho bi loi 7968.jpg\n",
      "anh meo va cho bi loi 7978.jpg\n",
      "anh meo va cho bi loi 8470.jpg\n",
      "anh meo va cho bi loi 850.jpg\n",
      "anh meo va cho bi loi 9171.jpg\n",
      "anh meo va cho bi loi 936.jpg\n",
      "anh meo va cho bi loi 9565.jpg\n",
      "anh meo va cho bi loi 9778.jpg\n",
      "anh meo va cho bi loi Thumbs.db\n",
      "anh meo va cho bi loi 10125.jpg\n",
      "anh meo va cho bi loi 10404.jpg\n",
      "anh meo va cho bi loi 10501.jpg\n",
      "anh meo va cho bi loi 10820.jpg\n",
      "anh meo va cho bi loi 11095.jpg\n",
      "anh meo va cho bi loi 11210.jpg\n",
      "anh meo va cho bi loi 11565.jpg\n",
      "anh meo va cho bi loi 11874.jpg\n",
      "anh meo va cho bi loi 11935.jpg\n",
      "anh meo va cho bi loi 12080.jpg\n",
      "anh meo va cho bi loi 140.jpg\n",
      "anh meo va cho bi loi 2663.jpg\n",
      "anh meo va cho bi loi 2939.jpg\n",
      "anh meo va cho bi loi 3300.jpg\n",
      "anh meo va cho bi loi 3491.jpg\n",
      "anh meo va cho bi loi 4833.jpg\n",
      "anh meo va cho bi loi 5370.jpg\n",
      "anh meo va cho bi loi 5553.jpg\n",
      "anh meo va cho bi loi 5686.jpg\n",
      "anh meo va cho bi loi 6435.jpg\n",
      "anh meo va cho bi loi 660.jpg\n",
      "anh meo va cho bi loi 666.jpg\n",
      "anh meo va cho bi loi 7276.jpg\n",
      "anh meo va cho bi loi 7968.jpg\n",
      "anh meo va cho bi loi 7978.jpg\n",
      "anh meo va cho bi loi 8470.jpg\n",
      "anh meo va cho bi loi 850.jpg\n",
      "anh meo va cho bi loi 9171.jpg\n",
      "anh meo va cho bi loi 936.jpg\n",
      "anh meo va cho bi loi 9565.jpg\n",
      "anh meo va cho bi loi 9778.jpg\n",
      "anh meo va cho bi loi Thumbs.db\n"
     ]
    }
   ],
   "source": [
    "X= []\n",
    "y=[]\n",
    "for i in range(len(X_true)):\n",
    "    try:\n",
    "        img = io.imread(os.path.join(link[0],X_true[i]))\n",
    "        img = resize(img,(32,32),anti_aliasing=True)\n",
    "        gray = rgb2gray(img)\n",
    "        X.append(list(gray.flatten()))\n",
    "        y.append(y_true[i])\n",
    "    except:\n",
    "        print(\"anh meo va cho bi loi\",X_true[i])"
   ]
  },
  {
   "cell_type": "code",
   "execution_count": 7,
   "id": "57933208-e3b4-4018-9e9b-4d74da434d3b",
   "metadata": {},
   "outputs": [
    {
     "name": "stdout",
     "output_type": "stream",
     "text": [
      "24938 24938\n"
     ]
    }
   ],
   "source": [
    "print(len(X),len(y))#kiem tra len X va len y"
   ]
  },
  {
   "cell_type": "code",
   "execution_count": 8,
   "id": "bc96bb65-4550-4483-a434-6817946629c3",
   "metadata": {},
   "outputs": [],
   "source": [
    "#dua X va y vao dang numpy_arrar(ma tran)\n",
    "X=np.array(X)\n",
    "#m = X.shape[0]\n",
    "#x0 = np.ones((m,1))\n",
    "#X = np.column_stack([x0, X])\n",
    "y=np.array(y)"
   ]
  },
  {
   "cell_type": "code",
   "execution_count": 9,
   "id": "9bf5227d-7393-4c01-a203-19e4eff29e0f",
   "metadata": {},
   "outputs": [],
   "source": [
    "#data=np.column_stack((X,y))"
   ]
  },
  {
   "cell_type": "code",
   "execution_count": 18,
   "id": "2263a4ea-8352-4c98-b687-94aaf7b795b9",
   "metadata": {},
   "outputs": [],
   "source": [
    "def scaledata(X,y):\n",
    "    X=preprocessing.MinMaxScaler().fit_transform(X)\n",
    "    X_train, X_test, y_train, y_test = train_test_split(X, y, test_size=0.3,shuffle=True, random_state=15)\n",
    "    return X_train, X_test, y_train, y_test"
   ]
  },
  {
   "cell_type": "code",
   "execution_count": null,
   "id": "11e07e12-e284-417f-9f3b-31e7f39c17fd",
   "metadata": {},
   "outputs": [],
   "source": [
    "def main():\n",
    "    X_train, X_test, y_train, y_test=scaledata(X,y)\n",
    "    y_hat_KNN=Y_du_doan_KNN(X_train, y_train,X_test)\n",
    "    scores_KNN(y_test,y_hat_KNN)\n",
    "    y_hat= y_du_doan_logistic(X_test,y_test)\n",
    "    roc(X_train, y_train,X_test,y_test)\n",
    "    "
   ]
  },
  {
   "cell_type": "code",
   "execution_count": 19,
   "id": "e9cd993b-a2f8-4af0-b7d8-ab8daa1c4f6e",
   "metadata": {},
   "outputs": [],
   "source": [
    "def Y_du_doan_KNN(X_train, y_train,X_test):\n",
    "    kNN = KNeighborsClassifier(n_neighbors=3)\n",
    "    kNN.fit(X_train, y_train)\n",
    "    y_hat_KNN = kNN.predict(X_test)\n",
    "    return y_hat_KNN"
   ]
  },
  {
   "cell_type": "code",
   "execution_count": 25,
   "id": "1b22c469-afdb-4dc2-a4e9-1d07644b6273",
   "metadata": {},
   "outputs": [],
   "source": [
    "def scores_KNN(y_test,y_hat_KNN):\n",
    "    ac_KNN=accuracy_score(y_hat_KNN, y_test)\n",
    "    print(\"Hiệu năng mô hình acc cua K lân cận\",ac_KNN)\n",
    "    ps_KNN=precision_score(y_test, y_hat_KNN,average='macro')\n",
    "    print(\"Hiệu năng mô hình precision cua K lân cận\",ps_KNN)\n",
    "    rs_KNN =recall_score(y_test, y_hat_KNN, average='macro')\n",
    "    print(\"Hiệu năng mô hình recall cua K lân cận\",rs_KNN)\n",
    "    f1_KNN= 2*(ps_KNN*rs_KNN)/(ps_KNN+rs_KNN)\n",
    "    print(\"Hiệu năng mô hình f1 cua K lân cận\",f1_KNN)\n",
    "    return ac_KNN,ps_KNN,rs_KNN,f1_KNN"
   ]
  },
  {
   "cell_type": "code",
   "execution_count": 23,
   "id": "d4803ea8-126f-4460-a3fc-510bdd5a84b5",
   "metadata": {},
   "outputs": [],
   "source": [
    "def y_du_doan_logistic(X_test,y_test):\n",
    "    model = LogisticRegressionCV(cv=3, random_state=15).fit(X_test, y_test)\n",
    "    y_hat = model.predict(X_test)\n",
    "    return  y_hat"
   ]
  },
  {
   "cell_type": "code",
   "execution_count": 24,
   "id": "93b150bc-b8c4-4b20-ad0a-c62058565ab9",
   "metadata": {},
   "outputs": [],
   "source": [
    "def scores(y_test,y_hat):\n",
    "    ac=accuracy_score(y_hat, y_test)\n",
    "    print('Hiệu năng mô hình acc cua logistic : ', ac)\n",
    "    ps=precision_score(y_test, y_hat,average='macro')\n",
    "    print(\"Hiệu năng mô hình precision cua logistic\",ps)\n",
    "    rs =recall_score(y_test, y_hat, average='macro')\n",
    "    print(\"Hiệu năng mô hình recall cua logistic\",rs)\n",
    "    f1= 2*(ps*rs)/(ps+rs)\n",
    "    print(\"Hiệu năng mô hình f1 cua logistic\",f1)\n",
    "    return ac,ps,rs,f1"
   ]
  },
  {
   "cell_type": "code",
   "execution_count": 15,
   "id": "c7591c2c-90e7-4a20-90e3-c0870633cfbf",
   "metadata": {},
   "outputs": [],
   "source": [
    "from sklearn import metrics"
   ]
  },
  {
   "cell_type": "code",
   "execution_count": 16,
   "id": "bcf9b164-f87f-450e-a880-7e2de2f4d482",
   "metadata": {},
   "outputs": [
    {
     "name": "stdout",
     "output_type": "stream",
     "text": [
      "Mô hình Logistic Regression - ROC AUC:  0.36351367936015244\n",
      "Mô hình Naive Bayes - ROC AUC:  0.2206828554635492\n"
     ]
    },
    {
     "data": {
      "image/png": "[encoded data removed]",
      "text/plain": [
       "<Figure size 640x480 with 1 Axes>"
      ]
     },
     "metadata": {},
     "output_type": "display_data"
    }
   ],
   "source": [
    "def roc(X_train, y_train,X_test,y_test):\n",
    "    #B3: Khởi tạo và huấn luyện mô hình\n",
    "    lg_model = LogisticRegression()\n",
    "    lg_model.fit(X_train, y_train)\n",
    "    gnb_model = KNeighborsClassifier(n_neighbors=3)\n",
    "    gnb_model.fit(X_train, y_train)\n",
    "    #B4: Lấy xác suất dự đoán nhãn positive của mô hình\n",
    "    lg_probs = lg_model.predict_proba(X_test)[:,1]\n",
    "    gnb_probs = gnb_model.predict_proba(X_test)[:,1]\n",
    "    #B5: Tính ROC score\n",
    "    lg_auc = roc_auc_score(y_test, lg_probs)\n",
    "    gnb_auc = roc_auc_score(y_test, gnb_probs)\n",
    "    print('Mô hình Logistic Regression - ROC AUC: ', lg_auc)\n",
    "    print('Mô hình Naive Bayes - ROC AUC: ', gnb_auc)\n",
    "    #B6: Vẽ đường ROC\n",
    "    lg_fpr, lg_tpr, _ = roc_curve(y_test, lg_probs)\n",
    "    gnb_fpr, gnb_tpr, _ = roc_curve(y_test, gnb_probs)\n",
    "    plt.plot(lg_fpr, lg_tpr, marker ='.', label='Logistic')\n",
    "    plt.plot(gnb_fpr, gnb_tpr, marker='3', label='K_NN')\n",
    "    plt.xlabel('False Positive Rate')\n",
    "    plt.ylabel('True Positive Rate')\n",
    "    plt.legend()\n",
    "    plt.show()"
   ]
  },
  {
   "cell_type": "code",
   "execution_count": 17,
   "id": "c5ffd155-5978-4cd8-abf9-38014590d4ce",
   "metadata": {},
   "outputs": [
    {
     "data": {
      "image/png": "[encoded data removed]",
      "text/plain": [
       "<Figure size 640x480 with 1 Axes>"
      ]
     },
     "metadata": {},
     "output_type": "display_data"
    }
   ],
   "source": [
    "def p(X_train, y_train,X_test,y_test):\n",
    "lg_model = LogisticRegression()\n",
    "lg_model.fit(X_train, y_train)\n",
    "gnb_model = KNeighborsClassifier(n_neighbors=3)\n",
    "gnb_model.fit(X_train, y_train)\n",
    "#B4: Lấy xác suất dự đoán của mô hình\n",
    "lg_probs = lg_model.predict_proba(X_test)\n",
    "gnb_probs = gnb_model.predict_proba(X_test)\n",
    "#Chỉ lấy xác suất dự đoán với nhãn positive\n",
    "lg_probs = lg_probs[:,1]\n",
    "gnb_probs = gnb_probs[:,1]\n",
    "#B5: Lấy nhãn lớp dự đoán và giá trị precision & recall tương ứng\n",
    "lg_pre, lg_rec, _ = precision_recall_curve(y_test, lg_probs)\n",
    "gnb_pre, gnb_rec, _ = precision_recall_curve(y_test, gnb_probs)\n",
    "no_model = len(y_test[y_test==1])/len(y_test)\n",
    "plt.plot([0,1], [no_model, no_model], linestyle = '--', label='No model')\n",
    "plt.plot(lg_rec, lg_pre, marker ='.', label='Logistic')\n",
    "plt.plot(gnb_rec, gnb_pre, marker='o', label='K_NN')\n",
    "plt.xlabel('Recall')\n",
    "plt.ylabel('Precision')\n",
    "plt.legend()\n",
    "plt.show()"
   ]
  }
 ],
 "metadata": {
  "kernelspec": {
   "display_name": "Python 3 (ipykernel)",
   "language": "python",
   "name": "python3"
  },
  "language_info": {
   "codemirror_mode": {
    "name": "ipython",
    "version": 3
   },
   "file_extension": ".py",
   "mimetype": "text/x-python",
   "name": "python",
   "nbconvert_exporter": "python",
   "pygments_lexer": "ipython3",
   "version": "3.9.13"
  }
 },
 "nbformat": 4,
 "nbformat_minor": 5
}
